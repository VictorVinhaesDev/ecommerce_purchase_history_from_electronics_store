{
 "cells": [
  {
   "cell_type": "markdown",
   "id": "4f058854-3dc3-48d8-ad57-bf0a22b1e0d3",
   "metadata": {},
   "source": [
    "###  Histórico de compras de comércio eletrônico de loja de eletrônicos\n",
    "Este arquivo contém dados de compras de abril de 2020 a novembro de 2020 em uma grande loja online de eletrodomésticos e eletrônicos.\r\n",
    "\r\n",
    "Cada linha no arquivo representa um evento. Todos os eventos são relacionados a produtos e usuários. Cada evento é como uma relação muitos-para-muitos entre produtos e usuários.\r\n",
    "\r\n",
    "Dados coletados pelo projeto Open CDP . Sinta-se à vontade para usar a plataforma de dados de clientes de código abe\n",
    "- https://www.kaggle.com/datasets/mkechinov/ecommerce-purchase-history-from-electronics-store/datarto."
   ]
  },
  {
   "cell_type": "code",
   "execution_count": 7,
   "id": "bc0229d5-d0b0-478f-a05f-586d7bc669ff",
   "metadata": {},
   "outputs": [],
   "source": [
    "import pandas as pd\n",
    "base = pd.read_csv(\"Kz.csv\")"
   ]
  },
  {
   "cell_type": "code",
   "execution_count": 8,
   "id": "beafec38-04aa-468c-9d71-a4f7f899b747",
   "metadata": {},
   "outputs": [
    {
     "data": {
      "text/html": [
       "<div>\n",
       "<style scoped>\n",
       "    .dataframe tbody tr th:only-of-type {\n",
       "        vertical-align: middle;\n",
       "    }\n",
       "\n",
       "    .dataframe tbody tr th {\n",
       "        vertical-align: top;\n",
       "    }\n",
       "\n",
       "    .dataframe thead th {\n",
       "        text-align: right;\n",
       "    }\n",
       "</style>\n",
       "<table border=\"1\" class=\"dataframe\">\n",
       "  <thead>\n",
       "    <tr style=\"text-align: right;\">\n",
       "      <th></th>\n",
       "      <th>event_time</th>\n",
       "      <th>order_id</th>\n",
       "      <th>product_id</th>\n",
       "      <th>category_id</th>\n",
       "      <th>category_code</th>\n",
       "      <th>brand</th>\n",
       "      <th>price</th>\n",
       "      <th>user_id</th>\n",
       "    </tr>\n",
       "  </thead>\n",
       "  <tbody>\n",
       "    <tr>\n",
       "      <th>0</th>\n",
       "      <td>2020-04-24 11:50:39 UTC</td>\n",
       "      <td>2294359932054536986</td>\n",
       "      <td>1515966223509089906</td>\n",
       "      <td>2.268105e+18</td>\n",
       "      <td>electronics.tablet</td>\n",
       "      <td>samsung</td>\n",
       "      <td>162.01</td>\n",
       "      <td>1.515916e+18</td>\n",
       "    </tr>\n",
       "    <tr>\n",
       "      <th>1</th>\n",
       "      <td>2020-04-24 11:50:39 UTC</td>\n",
       "      <td>2294359932054536986</td>\n",
       "      <td>1515966223509089906</td>\n",
       "      <td>2.268105e+18</td>\n",
       "      <td>electronics.tablet</td>\n",
       "      <td>samsung</td>\n",
       "      <td>162.01</td>\n",
       "      <td>1.515916e+18</td>\n",
       "    </tr>\n",
       "    <tr>\n",
       "      <th>2</th>\n",
       "      <td>2020-04-24 14:37:43 UTC</td>\n",
       "      <td>2294444024058086220</td>\n",
       "      <td>2273948319057183658</td>\n",
       "      <td>2.268105e+18</td>\n",
       "      <td>electronics.audio.headphone</td>\n",
       "      <td>huawei</td>\n",
       "      <td>77.52</td>\n",
       "      <td>1.515916e+18</td>\n",
       "    </tr>\n",
       "  </tbody>\n",
       "</table>\n",
       "</div>"
      ],
      "text/plain": [
       "                event_time             order_id           product_id  \\\n",
       "0  2020-04-24 11:50:39 UTC  2294359932054536986  1515966223509089906   \n",
       "1  2020-04-24 11:50:39 UTC  2294359932054536986  1515966223509089906   \n",
       "2  2020-04-24 14:37:43 UTC  2294444024058086220  2273948319057183658   \n",
       "\n",
       "    category_id                category_code    brand   price       user_id  \n",
       "0  2.268105e+18           electronics.tablet  samsung  162.01  1.515916e+18  \n",
       "1  2.268105e+18           electronics.tablet  samsung  162.01  1.515916e+18  \n",
       "2  2.268105e+18  electronics.audio.headphone   huawei   77.52  1.515916e+18  "
      ]
     },
     "execution_count": 8,
     "metadata": {},
     "output_type": "execute_result"
    }
   ],
   "source": [
    "base.head(3)"
   ]
  },
  {
   "cell_type": "code",
   "execution_count": 9,
   "id": "641a8654-75fb-44c4-8392-df354c6724c9",
   "metadata": {},
   "outputs": [
    {
     "name": "stdout",
     "output_type": "stream",
     "text": [
      "<class 'pandas.core.frame.DataFrame'>\n",
      "RangeIndex: 2633521 entries, 0 to 2633520\n",
      "Data columns (total 8 columns):\n",
      " #   Column         Dtype  \n",
      "---  ------         -----  \n",
      " 0   event_time     object \n",
      " 1   order_id       int64  \n",
      " 2   product_id     int64  \n",
      " 3   category_id    float64\n",
      " 4   category_code  object \n",
      " 5   brand          object \n",
      " 6   price          float64\n",
      " 7   user_id        float64\n",
      "dtypes: float64(3), int64(2), object(3)\n",
      "memory usage: 160.7+ MB\n"
     ]
    }
   ],
   "source": [
    "base.info()"
   ]
  },
  {
   "cell_type": "code",
   "execution_count": 10,
   "id": "0fddf615-f379-4d31-a8ea-e8a7a4daa48e",
   "metadata": {},
   "outputs": [
    {
     "data": {
      "text/plain": [
       "(2633521, 8)"
      ]
     },
     "execution_count": 10,
     "metadata": {},
     "output_type": "execute_result"
    }
   ],
   "source": [
    "# 2.6 milhões de linhas\n",
    "base.shape"
   ]
  },
  {
   "cell_type": "code",
   "execution_count": 11,
   "id": "240ecee1-425c-4e02-a3a1-008dc4da28bb",
   "metadata": {},
   "outputs": [
    {
     "data": {
      "text/plain": [
       "event_time       1316174\n",
       "order_id         1435266\n",
       "product_id         25113\n",
       "category_id          900\n",
       "category_code        510\n",
       "brand              23021\n",
       "price               2802\n",
       "user_id            98262\n",
       "dtype: int64"
      ]
     },
     "execution_count": 11,
     "metadata": {},
     "output_type": "execute_result"
    }
   ],
   "source": [
    "base.nunique()"
   ]
  },
  {
   "cell_type": "code",
   "execution_count": 12,
   "id": "e0c93037-f848-48b1-8df3-67120a5feb17",
   "metadata": {},
   "outputs": [
    {
     "data": {
      "text/plain": [
       "event_time             0\n",
       "order_id               0\n",
       "product_id             0\n",
       "category_id       431954\n",
       "category_code     612202\n",
       "brand             506005\n",
       "price             431954\n",
       "user_id          2069352\n",
       "dtype: int64"
      ]
     },
     "execution_count": 12,
     "metadata": {},
     "output_type": "execute_result"
    }
   ],
   "source": [
    "base.isnull().sum()"
   ]
  },
  {
   "cell_type": "code",
   "execution_count": 13,
   "id": "542d9af9-e072-4bf9-b162-f3446c514604",
   "metadata": {},
   "outputs": [
    {
     "data": {
      "text/html": [
       "<div>\n",
       "<style scoped>\n",
       "    .dataframe tbody tr th:only-of-type {\n",
       "        vertical-align: middle;\n",
       "    }\n",
       "\n",
       "    .dataframe tbody tr th {\n",
       "        vertical-align: top;\n",
       "    }\n",
       "\n",
       "    .dataframe thead th {\n",
       "        text-align: right;\n",
       "    }\n",
       "</style>\n",
       "<table border=\"1\" class=\"dataframe\">\n",
       "  <thead>\n",
       "    <tr style=\"text-align: right;\">\n",
       "      <th></th>\n",
       "      <th>event_time</th>\n",
       "      <th>order_id</th>\n",
       "      <th>product_id</th>\n",
       "      <th>category_id</th>\n",
       "      <th>category_code</th>\n",
       "      <th>brand</th>\n",
       "      <th>price</th>\n",
       "      <th>user_id</th>\n",
       "    </tr>\n",
       "  </thead>\n",
       "  <tbody>\n",
       "    <tr>\n",
       "      <th>1812</th>\n",
       "      <td>2020-05-02 11:12:20 UTC</td>\n",
       "      <td>2300138854784434309</td>\n",
       "      <td>1515966223509353669</td>\n",
       "      <td>NaN</td>\n",
       "      <td>0.02</td>\n",
       "      <td>1515915625453675584</td>\n",
       "      <td>NaN</td>\n",
       "      <td>NaN</td>\n",
       "    </tr>\n",
       "    <tr>\n",
       "      <th>3633</th>\n",
       "      <td>2020-05-06 07:37:55 UTC</td>\n",
       "      <td>2302930038149874117</td>\n",
       "      <td>1515966223509128764</td>\n",
       "      <td>NaN</td>\n",
       "      <td>38.17</td>\n",
       "      <td>1515915625455624044</td>\n",
       "      <td>NaN</td>\n",
       "      <td>NaN</td>\n",
       "    </tr>\n",
       "    <tr>\n",
       "      <th>3918</th>\n",
       "      <td>2020-05-06 22:36:13 UTC</td>\n",
       "      <td>2303382163636093788</td>\n",
       "      <td>1515966223510204743</td>\n",
       "      <td>NaN</td>\n",
       "      <td>0.02</td>\n",
       "      <td>1515915625441101795</td>\n",
       "      <td>NaN</td>\n",
       "      <td>NaN</td>\n",
       "    </tr>\n",
       "    <tr>\n",
       "      <th>6015</th>\n",
       "      <td>2020-05-10 09:41:54 UTC</td>\n",
       "      <td>2305891548316827762</td>\n",
       "      <td>1515966223509353669</td>\n",
       "      <td>NaN</td>\n",
       "      <td>0.02</td>\n",
       "      <td>1515915625441980762</td>\n",
       "      <td>NaN</td>\n",
       "      <td>NaN</td>\n",
       "    </tr>\n",
       "    <tr>\n",
       "      <th>7802</th>\n",
       "      <td>2020-05-13 03:09:39 UTC</td>\n",
       "      <td>2307868447599493180</td>\n",
       "      <td>1515966223510600539</td>\n",
       "      <td>NaN</td>\n",
       "      <td>0.02</td>\n",
       "      <td>1515915625441293616</td>\n",
       "      <td>NaN</td>\n",
       "      <td>NaN</td>\n",
       "    </tr>\n",
       "    <tr>\n",
       "      <th>...</th>\n",
       "      <td>...</td>\n",
       "      <td>...</td>\n",
       "      <td>...</td>\n",
       "      <td>...</td>\n",
       "      <td>...</td>\n",
       "      <td>...</td>\n",
       "      <td>...</td>\n",
       "      <td>...</td>\n",
       "    </tr>\n",
       "    <tr>\n",
       "      <th>2632423</th>\n",
       "      <td>2020-11-19 11:34:56 UTC</td>\n",
       "      <td>2388440981134693047</td>\n",
       "      <td>2388434452476082043</td>\n",
       "      <td>NaN</td>\n",
       "      <td>16.18</td>\n",
       "      <td>1515915625514803713</td>\n",
       "      <td>NaN</td>\n",
       "      <td>NaN</td>\n",
       "    </tr>\n",
       "    <tr>\n",
       "      <th>2632434</th>\n",
       "      <td>2020-11-19 05:38:31 UTC</td>\n",
       "      <td>2388440981134693055</td>\n",
       "      <td>1515966223523303300</td>\n",
       "      <td>NaN</td>\n",
       "      <td>13.87</td>\n",
       "      <td>1515915625514803718</td>\n",
       "      <td>NaN</td>\n",
       "      <td>NaN</td>\n",
       "    </tr>\n",
       "    <tr>\n",
       "      <th>2632437</th>\n",
       "      <td>2020-11-19 11:21:22 UTC</td>\n",
       "      <td>2388440981134693056</td>\n",
       "      <td>1515966223523303302</td>\n",
       "      <td>NaN</td>\n",
       "      <td>57.87</td>\n",
       "      <td>1515915625514803719</td>\n",
       "      <td>NaN</td>\n",
       "      <td>NaN</td>\n",
       "    </tr>\n",
       "    <tr>\n",
       "      <th>2632472</th>\n",
       "      <td>2020-11-19 09:54:22 UTC</td>\n",
       "      <td>2388440981134693073</td>\n",
       "      <td>2388434452476685318</td>\n",
       "      <td>NaN</td>\n",
       "      <td>5.76</td>\n",
       "      <td>1515915625514155115</td>\n",
       "      <td>NaN</td>\n",
       "      <td>NaN</td>\n",
       "    </tr>\n",
       "    <tr>\n",
       "      <th>2632511</th>\n",
       "      <td>2020-11-13 19:46:20 UTC</td>\n",
       "      <td>2388440981134693099</td>\n",
       "      <td>2388434452474499352</td>\n",
       "      <td>NaN</td>\n",
       "      <td>0.00</td>\n",
       "      <td>1515915625514803864</td>\n",
       "      <td>NaN</td>\n",
       "      <td>NaN</td>\n",
       "    </tr>\n",
       "  </tbody>\n",
       "</table>\n",
       "<p>431954 rows × 8 columns</p>\n",
       "</div>"
      ],
      "text/plain": [
       "                      event_time             order_id           product_id  \\\n",
       "1812     2020-05-02 11:12:20 UTC  2300138854784434309  1515966223509353669   \n",
       "3633     2020-05-06 07:37:55 UTC  2302930038149874117  1515966223509128764   \n",
       "3918     2020-05-06 22:36:13 UTC  2303382163636093788  1515966223510204743   \n",
       "6015     2020-05-10 09:41:54 UTC  2305891548316827762  1515966223509353669   \n",
       "7802     2020-05-13 03:09:39 UTC  2307868447599493180  1515966223510600539   \n",
       "...                          ...                  ...                  ...   \n",
       "2632423  2020-11-19 11:34:56 UTC  2388440981134693047  2388434452476082043   \n",
       "2632434  2020-11-19 05:38:31 UTC  2388440981134693055  1515966223523303300   \n",
       "2632437  2020-11-19 11:21:22 UTC  2388440981134693056  1515966223523303302   \n",
       "2632472  2020-11-19 09:54:22 UTC  2388440981134693073  2388434452476685318   \n",
       "2632511  2020-11-13 19:46:20 UTC  2388440981134693099  2388434452474499352   \n",
       "\n",
       "         category_id category_code                brand  price  user_id  \n",
       "1812             NaN          0.02  1515915625453675584    NaN      NaN  \n",
       "3633             NaN         38.17  1515915625455624044    NaN      NaN  \n",
       "3918             NaN          0.02  1515915625441101795    NaN      NaN  \n",
       "6015             NaN          0.02  1515915625441980762    NaN      NaN  \n",
       "7802             NaN          0.02  1515915625441293616    NaN      NaN  \n",
       "...              ...           ...                  ...    ...      ...  \n",
       "2632423          NaN         16.18  1515915625514803713    NaN      NaN  \n",
       "2632434          NaN         13.87  1515915625514803718    NaN      NaN  \n",
       "2632437          NaN         57.87  1515915625514803719    NaN      NaN  \n",
       "2632472          NaN          5.76  1515915625514155115    NaN      NaN  \n",
       "2632511          NaN          0.00  1515915625514803864    NaN      NaN  \n",
       "\n",
       "[431954 rows x 8 columns]"
      ]
     },
     "execution_count": 13,
     "metadata": {},
     "output_type": "execute_result"
    }
   ],
   "source": [
    "nulos_price = base[base[\"price\"].isnull()]\n",
    "nulos_price"
   ]
  },
  {
   "cell_type": "markdown",
   "id": "ec0e7659-ce6d-48af-985c-54457fa8fa29",
   "metadata": {},
   "source": [
    "### Analisando items com dados e sem dados"
   ]
  },
  {
   "cell_type": "code",
   "execution_count": 14,
   "id": "714ec87a-41f1-40fa-8d35-d67fc3043160",
   "metadata": {},
   "outputs": [
    {
     "data": {
      "text/plain": [
       "1304"
      ]
     },
     "execution_count": 14,
     "metadata": {},
     "output_type": "execute_result"
    }
   ],
   "source": [
    "# quantidade de produtos que estão faltando dados\n",
    "sem_dados = nulos_price[\"product_id\"].nunique()\n",
    "sem_dados"
   ]
  },
  {
   "cell_type": "code",
   "execution_count": 15,
   "id": "0c12667d-fc07-4e50-a5bc-714235419855",
   "metadata": {},
   "outputs": [
    {
     "data": {
      "text/plain": [
       "25113"
      ]
     },
     "execution_count": 15,
     "metadata": {},
     "output_type": "execute_result"
    }
   ],
   "source": [
    "# Total de produtos\n",
    "com_dados = base[\"product_id\"].nunique()\n",
    "com_dados"
   ]
  },
  {
   "cell_type": "code",
   "execution_count": 16,
   "id": "7e309827-4f53-461e-8d01-421ab2ae83d5",
   "metadata": {},
   "outputs": [
    {
     "data": {
      "image/png": "[encoded data removed]",
      "text/plain": [
       "<Figure size 640x480 with 1 Axes>"
      ]
     },
     "metadata": {},
     "output_type": "display_data"
    }
   ],
   "source": [
    "import matplotlib.pyplot as plt\n",
    "\n",
    "# Quantidade de itens com e sem dados\n",
    "quantidades = [sem_dados, com_dados]\n",
    "labels = ['Sem Dados', 'Com Dados']\n",
    "\n",
    "# Criação do gráfico de barras\n",
    "plt.bar(labels, quantidades, color=['red', 'blue'])\n",
    "\n",
    "# Adicionando título e rótulos aos eixos\n",
    "plt.title('Quantidade de Itens com e sem Dados')\n",
    "plt.xlabel('Status')\n",
    "plt.ylabel('Quantidade')\n",
    "\n",
    "# Exibindo o gráfico\n",
    "plt.show()\n"
   ]
  },
  {
   "cell_type": "code",
   "execution_count": 17,
   "id": "0b3e0921-b273-4889-9b80-7afe1abba5c8",
   "metadata": {},
   "outputs": [
    {
     "data": {
      "image/png": "[encoded data removed]",
      "text/plain": [
       "<Figure size 800x800 with 1 Axes>"
      ]
     },
     "metadata": {},
     "output_type": "display_data"
    }
   ],
   "source": [
    "import matplotlib.pyplot as plt\n",
    "\n",
    "# Calculando o total de itens\n",
    "total_itens = sem_dados + com_dados\n",
    "\n",
    "# Calculando as porcentagens\n",
    "percentual_sem_dados = (sem_dados / total_itens) * 100\n",
    "percentual_com_dados = (com_dados / total_itens) * 100\n",
    "\n",
    "# Dados para o gráfico de pizza\n",
    "labels = ['Sem Dados', 'Com Dados']\n",
    "percentuais = [percentual_sem_dados, percentual_com_dados]\n",
    "colors = ['red', 'blue']\n",
    "\n",
    "# Criando o gráfico de pizza\n",
    "plt.figure(figsize=(8, 8))\n",
    "plt.pie(percentuais, labels=labels, colors=colors, autopct='%1.1f%%', startangle=140)\n",
    "\n",
    "# Adicionando título\n",
    "plt.title('Porcentagem de Itens com e sem Dados')\n",
    "\n",
    "# Exibindo o gráfico\n",
    "plt.show()\n"
   ]
  },
  {
   "cell_type": "markdown",
   "id": "4fe07d56-f005-4af5-8e35-ea3d5df57904",
   "metadata": {},
   "source": [
    "### Vamos calcular a média dos valores por categoria e marca"
   ]
  },
  {
   "cell_type": "code",
   "execution_count": 18,
   "id": "70fdb917-8bd7-4f8c-9097-573b1430c3af",
   "metadata": {},
   "outputs": [
    {
     "data": {
      "text/html": [
       "<div>\n",
       "<style scoped>\n",
       "    .dataframe tbody tr th:only-of-type {\n",
       "        vertical-align: middle;\n",
       "    }\n",
       "\n",
       "    .dataframe tbody tr th {\n",
       "        vertical-align: top;\n",
       "    }\n",
       "\n",
       "    .dataframe thead th {\n",
       "        text-align: right;\n",
       "    }\n",
       "</style>\n",
       "<table border=\"1\" class=\"dataframe\">\n",
       "  <thead>\n",
       "    <tr style=\"text-align: right;\">\n",
       "      <th></th>\n",
       "      <th>event_time</th>\n",
       "      <th>order_id</th>\n",
       "      <th>product_id</th>\n",
       "      <th>category_id</th>\n",
       "      <th>category_code</th>\n",
       "      <th>brand</th>\n",
       "      <th>price</th>\n",
       "      <th>user_id</th>\n",
       "    </tr>\n",
       "  </thead>\n",
       "  <tbody>\n",
       "    <tr>\n",
       "      <th>0</th>\n",
       "      <td>2020-04-24 11:50:39 UTC</td>\n",
       "      <td>2294359932054536986</td>\n",
       "      <td>1515966223509089906</td>\n",
       "      <td>2.268105e+18</td>\n",
       "      <td>electronics.tablet</td>\n",
       "      <td>samsung</td>\n",
       "      <td>162.01</td>\n",
       "      <td>1.515916e+18</td>\n",
       "    </tr>\n",
       "    <tr>\n",
       "      <th>1</th>\n",
       "      <td>2020-04-24 11:50:39 UTC</td>\n",
       "      <td>2294359932054536986</td>\n",
       "      <td>1515966223509089906</td>\n",
       "      <td>2.268105e+18</td>\n",
       "      <td>electronics.tablet</td>\n",
       "      <td>samsung</td>\n",
       "      <td>162.01</td>\n",
       "      <td>1.515916e+18</td>\n",
       "    </tr>\n",
       "  </tbody>\n",
       "</table>\n",
       "</div>"
      ],
      "text/plain": [
       "                event_time             order_id           product_id  \\\n",
       "0  2020-04-24 11:50:39 UTC  2294359932054536986  1515966223509089906   \n",
       "1  2020-04-24 11:50:39 UTC  2294359932054536986  1515966223509089906   \n",
       "\n",
       "    category_id       category_code    brand   price       user_id  \n",
       "0  2.268105e+18  electronics.tablet  samsung  162.01  1.515916e+18  \n",
       "1  2.268105e+18  electronics.tablet  samsung  162.01  1.515916e+18  "
      ]
     },
     "execution_count": 18,
     "metadata": {},
     "output_type": "execute_result"
    }
   ],
   "source": [
    "base.head(2)"
   ]
  },
  {
   "cell_type": "code",
   "execution_count": 19,
   "id": "5adaf49b-94c0-4afe-944a-430f9db9f409",
   "metadata": {},
   "outputs": [],
   "source": [
    "# Deletando os valores nulos\n",
    "base = base.dropna()"
   ]
  },
  {
   "cell_type": "code",
   "execution_count": 20,
   "id": "808984e6-0040-457a-a2b7-5249ed11892f",
   "metadata": {},
   "outputs": [
    {
     "data": {
      "text/html": [
       "<div>\n",
       "<style scoped>\n",
       "    .dataframe tbody tr th:only-of-type {\n",
       "        vertical-align: middle;\n",
       "    }\n",
       "\n",
       "    .dataframe tbody tr th {\n",
       "        vertical-align: top;\n",
       "    }\n",
       "\n",
       "    .dataframe thead th {\n",
       "        text-align: right;\n",
       "    }\n",
       "</style>\n",
       "<table border=\"1\" class=\"dataframe\">\n",
       "  <thead>\n",
       "    <tr style=\"text-align: right;\">\n",
       "      <th></th>\n",
       "      <th>category_code</th>\n",
       "      <th>price</th>\n",
       "    </tr>\n",
       "  </thead>\n",
       "  <tbody>\n",
       "    <tr>\n",
       "      <th>0</th>\n",
       "      <td>electronics.camera.video</td>\n",
       "      <td>670.243985</td>\n",
       "    </tr>\n",
       "    <tr>\n",
       "      <th>1</th>\n",
       "      <td>computers.notebook</td>\n",
       "      <td>571.644938</td>\n",
       "    </tr>\n",
       "    <tr>\n",
       "      <th>2</th>\n",
       "      <td>construction.tools.heater</td>\n",
       "      <td>513.446121</td>\n",
       "    </tr>\n",
       "    <tr>\n",
       "      <th>3</th>\n",
       "      <td>electronics.video.tv</td>\n",
       "      <td>495.243089</td>\n",
       "    </tr>\n",
       "    <tr>\n",
       "      <th>4</th>\n",
       "      <td>appliances.kitchen.dishwasher</td>\n",
       "      <td>491.108414</td>\n",
       "    </tr>\n",
       "  </tbody>\n",
       "</table>\n",
       "</div>"
      ],
      "text/plain": [
       "                   category_code       price\n",
       "0       electronics.camera.video  670.243985\n",
       "1             computers.notebook  571.644938\n",
       "2      construction.tools.heater  513.446121\n",
       "3           electronics.video.tv  495.243089\n",
       "4  appliances.kitchen.dishwasher  491.108414"
      ]
     },
     "execution_count": 20,
     "metadata": {},
     "output_type": "execute_result"
    }
   ],
   "source": [
    "# pegando a media da categoria de items mais cara, não peguei os produtos pois eles vem como id neste database\n",
    "top_produtos = base.groupby([\"category_code\"])[\"price\"].mean().sort_values(ascending=False).reset_index().head()\n",
    "top_produtos"
   ]
  },
  {
   "cell_type": "code",
   "execution_count": 21,
   "id": "f4c69f12-4e96-4dde-bfda-4360caa64d7f",
   "metadata": {},
   "outputs": [
    {
     "name": "stdout",
     "output_type": "stream",
     "text": [
      "electronics camera video\n",
      "computers notebook\n",
      "construction tools heater\n",
      "electronics video tv\n",
      "appliances kitchen dishwasher\n"
     ]
    }
   ],
   "source": [
    "# Deixando o nome mais bonito\n",
    "for i in range(len(top_produtos)):\n",
    "    product_name = top_produtos[\"category_code\"][i].replace('.', ' ')\n",
    "    print(product_name)\n",
    "    top_produtos.loc[i, \"category_code\"] = product_name"
   ]
  },
  {
   "cell_type": "code",
   "execution_count": 22,
   "id": "87558ef3-ac4d-4962-9232-0dfb66263de9",
   "metadata": {},
   "outputs": [
    {
     "data": {
      "image/png": "[encoded data removed]",
      "text/plain": [
       "<Figure size 640x480 with 1 Axes>"
      ]
     },
     "metadata": {},
     "output_type": "display_data"
    }
   ],
   "source": [
    "import seaborn as sns\n",
    "# Criando o gráfico de barras horizontais\n",
    "sns.barplot(x='price', y='category_code', data=top_produtos, color=\"orange\")\n",
    "plt.ylabel('Categorias dos Produtos', c=\"blue\")\n",
    "plt.xlabel('Valor', c=\"blue\")\n",
    "plt.title('Top 5 Produtos Mais Caros')\n",
    "plt.show()"
   ]
  },
  {
   "cell_type": "code",
   "execution_count": 23,
   "id": "d893237a-bb9b-4905-a3d0-496595f1af00",
   "metadata": {},
   "outputs": [
    {
     "data": {
      "text/plain": [
       "brand\n",
       "yamaguchi    6215.250000\n",
       "technogym    3674.898333\n",
       "gewa         3261.780000\n",
       "loewe        2321.502500\n",
       "nvidia       2218.650000\n",
       "Name: price, dtype: float64"
      ]
     },
     "execution_count": 23,
     "metadata": {},
     "output_type": "execute_result"
    }
   ],
   "source": [
    "# pegando a media das marcas mais caras\n",
    "top_marcas = base.groupby([\"brand\"])[\"price\"].mean().sort_values(ascending=False).head(5)\n",
    "top_marcas"
   ]
  },
  {
   "cell_type": "code",
   "execution_count": 24,
   "id": "b0ec8eb8-8fb4-499f-ad87-d77071ba8ee5",
   "metadata": {},
   "outputs": [
    {
     "data": {
      "image/png": "[encoded data removed]",
      "text/plain": [
       "<Figure size 640x480 with 1 Axes>"
      ]
     },
     "metadata": {},
     "output_type": "display_data"
    }
   ],
   "source": [
    "import seaborn as sns\n",
    "sns.barplot(top_marcas)\n",
    "plt.title('Top 5 Marcas Mais Caras')\n",
    "plt.xlabel('Marcas', c=\"blue\")\n",
    "plt.ylabel('Valor', c=\"blue\")\n",
    "plt.show()"
   ]
  },
  {
   "cell_type": "markdown",
   "id": "05580688-d1e7-41e3-bf1d-d705c36cefaf",
   "metadata": {},
   "source": [
    "#### Exportando base tratada para o power bi"
   ]
  },
  {
   "cell_type": "code",
   "execution_count": 25,
   "id": "31290420-e0ba-4a95-9fe5-d192185592c2",
   "metadata": {},
   "outputs": [],
   "source": [
    "# base.to_csv('base_tratada.csv', index=False)"
   ]
  }
 ],
 "metadata": {
  "kernelspec": {
   "display_name": "Python 3 (ipykernel)",
   "language": "python",
   "name": "python3"
  },
  "language_info": {
   "codemirror_mode": {
    "name": "ipython",
    "version": 3
   },
   "file_extension": ".py",
   "mimetype": "text/x-python",
   "name": "python",
   "nbconvert_exporter": "python",
   "pygments_lexer": "ipython3",
   "version": "3.12.4"
  }
 },
 "nbformat": 4,
 "nbformat_minor": 5
}
